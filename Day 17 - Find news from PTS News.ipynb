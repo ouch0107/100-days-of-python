{
 "cells": [
  {
   "cell_type": "code",
   "execution_count": 1,
   "metadata": {},
   "outputs": [],
   "source": [
    "import requests\n",
    "from bs4 import BeautifulSoup"
   ]
  },
  {
   "cell_type": "code",
   "execution_count": 2,
   "metadata": {},
   "outputs": [],
   "source": [
    "url = 'https://news.pts.org.tw/'\n",
    "res = requests.get(url)\n",
    "soup = BeautifulSoup(res.text, 'html.parser')"
   ]
  },
  {
   "cell_type": "code",
   "execution_count": 3,
   "metadata": {},
   "outputs": [
    {
     "data": {
      "text/plain": [
       "<div class=\"text-title text-title2\">\n",
       "<a href=\"https://news.pts.org.tw/article/431876\">高雄包裹爆炸案嫌犯已遭逮捕 被害人命危</a>\n",
       "</div>"
      ]
     },
     "execution_count": 3,
     "metadata": {},
     "output_type": "execute_result"
    }
   ],
   "source": [
    "soup.find('div', attrs={'class':'text-title text-title2'})"
   ]
  },
  {
   "cell_type": "code",
   "execution_count": 4,
   "metadata": {},
   "outputs": [
    {
     "data": {
      "text/plain": [
       "bs4.element.Tag"
      ]
     },
     "execution_count": 4,
     "metadata": {},
     "output_type": "execute_result"
    }
   ],
   "source": [
    "type(soup.find('div', attrs={'class':'text-title text-title2'}))"
   ]
  },
  {
   "cell_type": "code",
   "execution_count": 5,
   "metadata": {},
   "outputs": [
    {
     "data": {
      "text/plain": [
       "<a href=\"https://news.pts.org.tw/article/431876\">高雄包裹爆炸案嫌犯已遭逮捕 被害人命危</a>"
      ]
     },
     "execution_count": 5,
     "metadata": {},
     "output_type": "execute_result"
    }
   ],
   "source": [
    "soup.find('div', attrs={'class':'text-title text-title2'}).a"
   ]
  },
  {
   "cell_type": "code",
   "execution_count": 6,
   "metadata": {},
   "outputs": [],
   "source": [
    "news_name = []\n",
    "news_link = []\n",
    "news_img = []\n",
    "for elem in soup.findAll('div', attrs={'class':'text-title text-title2'}, limit=6):\n",
    "    news_name.append(elem.text)\n",
    "    news_link.append(elem.a.get('href'))"
   ]
  },
  {
   "cell_type": "code",
   "execution_count": 7,
   "metadata": {},
   "outputs": [
    {
     "data": {
      "text/plain": [
       "'https://news.pts.org.tw/news_images/431876/1557986693h.jpg'"
      ]
     },
     "execution_count": 7,
     "metadata": {},
     "output_type": "execute_result"
    }
   ],
   "source": [
    "soup.find('div', attrs={'class': 'img img-fill fill imgzoom'}).a.img.get('src')g"
   ]
  },
  {
   "cell_type": "code",
   "execution_count": 8,
   "metadata": {},
   "outputs": [
    {
     "data": {
      "text/plain": [
       "['\\n高雄包裹爆炸案嫌犯已遭逮捕 被害人命危\\n',\n",
       " '\\n空服員端午不罷工 籲長榮5/24前重啟協商\\n',\n",
       " '\\n台灣登山界新紀錄 3登山家登頂馬卡魯峰\\n',\n",
       " '\\n索國要求增援否則斷交？ 外交部否認\\n',\n",
       " '\\n防假訊息影響選情 政院提選罷法修正案\\n',\n",
       " '\\n史博館出借 寶島長春圖南美館展出\\n']"
      ]
     },
     "execution_count": 8,
     "metadata": {},
     "output_type": "execute_result"
    }
   ],
   "source": [
    "news_name"
   ]
  },
  {
   "cell_type": "code",
   "execution_count": 9,
   "metadata": {},
   "outputs": [
    {
     "data": {
      "text/plain": [
       "['https://news.pts.org.tw/article/431876',\n",
       " 'https://news.pts.org.tw/article/431886',\n",
       " 'https://news.pts.org.tw/article/431900',\n",
       " 'https://news.pts.org.tw/article/431894',\n",
       " 'https://news.pts.org.tw/article/431891',\n",
       " 'https://news.pts.org.tw/article/431898']"
      ]
     },
     "execution_count": 9,
     "metadata": {},
     "output_type": "execute_result"
    }
   ],
   "source": [
    "news_link"
   ]
  },
  {
   "cell_type": "code",
   "execution_count": null,
   "metadata": {},
   "outputs": [],
   "source": []
  }
 ],
 "metadata": {
  "kernelspec": {
   "display_name": "Python 3",
   "language": "python",
   "name": "python3"
  },
  "language_info": {
   "codemirror_mode": {
    "name": "ipython",
    "version": 3
   },
   "file_extension": ".py",
   "mimetype": "text/x-python",
   "name": "python",
   "nbconvert_exporter": "python",
   "pygments_lexer": "ipython3",
   "version": "3.7.1"
  }
 },
 "nbformat": 4,
 "nbformat_minor": 2
}
