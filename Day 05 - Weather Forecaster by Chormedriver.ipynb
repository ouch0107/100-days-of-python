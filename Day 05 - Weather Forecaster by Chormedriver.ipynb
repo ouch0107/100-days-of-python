{
 "cells": [
  {
   "cell_type": "code",
   "execution_count": 1,
   "metadata": {},
   "outputs": [],
   "source": [
    "from selenium import webdriver"
   ]
  },
  {
   "cell_type": "code",
   "execution_count": 2,
   "metadata": {},
   "outputs": [
    {
     "name": "stdout",
     "output_type": "stream",
     "text": [
      "Day 01 - A Python Practice Problem on the Internet.ipynb\r\n",
      "Day 02 - Read an Image File .ipynb\r\n",
      "Day 03 - Image Pixelization.ipynb\r\n",
      "Day 04 - Python Practice Problem.ipynb\r\n",
      "Day 05 - Weather Forecaster by Chormedriver.ipynb\r\n",
      "Day 06 - Read a Data of Alcohol Consumption by Pandas.ipynb\r\n",
      "Day 07 - Read Exchange Rate from Bank of Taiwan.ipynb\r\n",
      "Day 08.ipynb\r\n",
      "Day 09.ipynb\r\n",
      "Day 10 - Random Python Practice Problems from Web.ipynb\r\n",
      "Day 11.ipynb\r\n",
      "Day 12 - filter(), map(), List Comprehensions.ipynb\r\n",
      "Day 13.ipynb\r\n",
      "Day 14 - Regular Expression.ipynb\r\n",
      "Day 15.ipynb\r\n",
      "Day 16.ipynb\r\n",
      "Day 17 - Find news from PTS News.ipynb\r\n",
      "\u001b[34mresource\u001b[m\u001b[m/\r\n"
     ]
    }
   ],
   "source": [
    "%ls"
   ]
  },
  {
   "cell_type": "code",
   "execution_count": 3,
   "metadata": {},
   "outputs": [],
   "source": [
    "driver = webdriver.Chrome(\"resource/chromedriver\")"
   ]
  },
  {
   "cell_type": "code",
   "execution_count": 4,
   "metadata": {},
   "outputs": [
    {
     "name": "stdout",
     "output_type": "stream",
     "text": [
      "enter the city:london\n",
      "Light rain (total 5mm), mostly falling on Sun night. Very mild (max 19°C on Tue afternoon, min 11°C on Mon night). Winds increasing (light winds from the N on Tue afternoon, fresh winds from the W by Wed afternoon).\n"
     ]
    }
   ],
   "source": [
    "city = str(input(\"enter the city:\"))\n",
    "driver.get(\"https://www.weather-forecast.com/locations/\"+city+\"/forecasts/latest\")\n",
    "\n",
    "print(driver.find_elements_by_class_name(\"b-forecast__table-description-content\")[0].text)"
   ]
  },
  {
   "cell_type": "code",
   "execution_count": 5,
   "metadata": {},
   "outputs": [
    {
     "data": {
      "text/plain": [
       "'Light rain (total 5mm), mostly falling on Sun night. Very mild (max 19°C on Tue afternoon, min 11°C on Mon night). Winds increasing (light winds from the N on Tue afternoon, fresh winds from the W by Wed afternoon).'"
      ]
     },
     "execution_count": 5,
     "metadata": {},
     "output_type": "execute_result"
    }
   ],
   "source": [
    "driver.find_element_by_class_name(\"b-forecast__table-description-content\").text"
   ]
  },
  {
   "cell_type": "code",
   "execution_count": 6,
   "metadata": {},
   "outputs": [
    {
     "name": "stdout",
     "output_type": "stream",
     "text": [
      "Light rain (total 5mm), mostly falling on Sun night. Very mild (max 19°C on Tue afternoon, min 11°C on Mon night). Winds increasing (light winds from the N on Tue afternoon, fresh winds from the W by Wed afternoon).\n",
      "\n",
      "Some drizzle, heaviest during Wed night. Warm (max 22°C on Sat afternoon, min 12°C on Fri night). Winds decreasing (fresh winds from the WSW on Thu afternoon, light winds from the NE by Fri morning).\n",
      "\n",
      "Mostly dry. Warm (max 25°C on Sun afternoon, min 13°C on Mon night). Winds increasing (light winds from the WSW on Sun night, fresh winds from the N by Mon night).\n",
      "\n"
     ]
    }
   ],
   "source": [
    "for weather in driver.find_elements_by_class_name(\"b-forecast__table-description-content\"):\n",
    "    print(weather.text + '\\n')"
   ]
  },
  {
   "cell_type": "code",
   "execution_count": null,
   "metadata": {},
   "outputs": [],
   "source": []
  }
 ],
 "metadata": {
  "kernelspec": {
   "display_name": "Python 3",
   "language": "python",
   "name": "python3"
  },
  "language_info": {
   "codemirror_mode": {
    "name": "ipython",
    "version": 3
   },
   "file_extension": ".py",
   "mimetype": "text/x-python",
   "name": "python",
   "nbconvert_exporter": "python",
   "pygments_lexer": "ipython3",
   "version": "3.7.1"
  }
 },
 "nbformat": 4,
 "nbformat_minor": 2
}
