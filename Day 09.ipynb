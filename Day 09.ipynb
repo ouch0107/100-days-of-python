{
 "cells": [
  {
   "cell_type": "markdown",
   "metadata": {},
   "source": [
    "[Reference](https://github.com/zhiwehu/Python-programming-exercises/blob/master/100%2B%20Python%20challenging%20programming%20exercises.txt)"
   ]
  },
  {
   "cell_type": "markdown",
   "metadata": {},
   "source": [
    "<font face=\"Courier\">\n",
    "Question 6<br>\n",
    "Level 2<br>\n",
    "\n",
    "Question:<br>\n",
    "Write a program that calculates and prints the value according to the given formula:<br>\n",
    "Q = Square root of [(2 * C * D)/H]<br>\n",
    "Following are the fixed values of C and H:<br>\n",
    "C is 50. H is 30.<br>\n",
    "D is the variable whose values should be input to your program in a comma-separated sequence.<br>\n",
    "Example<br>\n",
    "Let us assume the following comma separated input sequence is given to the program:<br>\n",
    "100,150,180<br>\n",
    "The output of the program should be:<br>\n",
    "18,22,24<br>\n",
    "\n",
    "Hints:<br>\n",
    "If the output received is in decimal form, it should be rounded off to its nearest value (for example, if the output received is 26.0, it should be printed as 26)<br>\n",
    "In case of input data being supplied to the question, it should be assumed to be a console input.<br>\n",
    "</font>"
   ]
  },
  {
   "cell_type": "code",
   "execution_count": 1,
   "metadata": {},
   "outputs": [],
   "source": [
    "import math"
   ]
  },
  {
   "cell_type": "code",
   "execution_count": 4,
   "metadata": {},
   "outputs": [],
   "source": [
    "def formula(C, D, H):\n",
    "    return math.sqrt((2 * C * D) / H)"
   ]
  },
  {
   "cell_type": "code",
   "execution_count": 17,
   "metadata": {},
   "outputs": [
    {
     "name": "stdout",
     "output_type": "stream",
     "text": [
      "100,150,180\n",
      "18,22,24"
     ]
    }
   ],
   "source": [
    "C = 50\n",
    "H = 30\n",
    "D_in = input()\n",
    "D = D_in.split(\",\")\n",
    "for i in range(len(D)):\n",
    "    print(str(round(formula(C, int(D[i]), H))), end=\"\")\n",
    "    if i < len(D) - 1:\n",
    "        print(\",\", end=\"\")"
   ]
  },
  {
   "cell_type": "markdown",
   "metadata": {},
   "source": [
    "<font face=\"Courier\">\n",
    "Question 7<br>\n",
    "Level 2<br>\n",
    "\n",
    "Question:<br>\n",
    "Write a program which takes 2 digits, X,Y as input and generates a 2-dimensional array. The element value in the i-th row and j-th column of the array should be i*j.<br>\n",
    "Note: i=0,1...,X-1; j=0,1,...,Y-1.<br>\n",
    "Example<br>\n",
    "Suppose the following inputs are given to the program:<br>\n",
    "3,5<br>\n",
    "Then, the output of the program should be:<br>\n",
    "[[0, 0, 0, 0, 0], [0, 1, 2, 3, 4], [0, 2, 4, 6, 8]] <br>\n",
    "\n",
    "Hints:<br>\n",
    "Note: In case of input data being supplied to the question, it should be assumed to be a console input in a comma-separated form.<br>\n",
    "</font>"
   ]
  },
  {
   "cell_type": "code",
   "execution_count": 39,
   "metadata": {},
   "outputs": [
    {
     "name": "stdout",
     "output_type": "stream",
     "text": [
      "X,Y: 3,5\n"
     ]
    },
    {
     "data": {
      "text/plain": [
       "[[0, 0, 0, 0, 0], [0, 1, 2, 3, 4], [0, 2, 4, 6, 8]]"
      ]
     },
     "execution_count": 39,
     "metadata": {},
     "output_type": "execute_result"
    }
   ],
   "source": [
    "X_Y_in = input(\"X,Y: \")\n",
    "X_Y_in = X_Y_in.split(\",\")\n",
    "X = int(X_Y_in[0])\n",
    "Y = int(X_Y_in[1])\n",
    "\n",
    "# Create a 2-D list contain zeros\n",
    "out = [[0] * Y for i in range(X)]\n",
    "\n",
    "for i in range(X):\n",
    "    for j in range(Y):\n",
    "        out[i][j] = i * j\n",
    "out"
   ]
  },
  {
   "cell_type": "code",
   "execution_count": null,
   "metadata": {},
   "outputs": [],
   "source": []
  }
 ],
 "metadata": {
  "kernelspec": {
   "display_name": "Python 3",
   "language": "python",
   "name": "python3"
  },
  "language_info": {
   "codemirror_mode": {
    "name": "ipython",
    "version": 3
   },
   "file_extension": ".py",
   "mimetype": "text/x-python",
   "name": "python",
   "nbconvert_exporter": "python",
   "pygments_lexer": "ipython3",
   "version": "3.7.1"
  }
 },
 "nbformat": 4,
 "nbformat_minor": 2
}
