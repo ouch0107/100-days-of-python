{
 "cells": [
  {
   "cell_type": "code",
   "execution_count": 1,
   "metadata": {},
   "outputs": [],
   "source": [
    "import datetime\n",
    "import numpy as np\n",
    "import matplotlib.pyplot as plt\n",
    "import pandas as pd"
   ]
  },
  {
   "cell_type": "code",
   "execution_count": 2,
   "metadata": {},
   "outputs": [
    {
     "name": "stdout",
     "output_type": "stream",
     "text": [
      "Last days(reduced): 89\n",
      "Vaction: 15\n"
     ]
    }
   ],
   "source": [
    "end = datetime.date(2019, 9, 2)\n",
    "today = datetime.date.today()\n",
    "reduction = 9\n",
    "remaining = (end - today).days - reduction\n",
    "vacation = 15\n",
    "\n",
    "print(f\"Last days(reduced): {remaining}\")\n",
    "print(f\"Vaction: {vacation}\")"
   ]
  },
  {
   "cell_type": "code",
   "execution_count": 3,
   "metadata": {},
   "outputs": [
    {
     "data": {
      "image/png": "[encoded data removed]",
      "text/plain": [
       "<Figure size 432x288 with 1 Axes>"
      ]
     },
     "metadata": {},
     "output_type": "display_data"
    }
   ],
   "source": [
    "military = [remaining - vacation, vacation, 365-remaining]\n",
    "labels = [\"Remaining\", \"Vacation\", \"Completed\"]\n",
    "explode = [0.1,0, 0]\n",
    "plt.pie(military, autopct=\"%3.1f%%\", labels=labels, explode=explode)\n",
    "plt.axis(\"equal\")\n",
    "plt.title(\"Military Days Counting\")\n",
    "plt.show()"
   ]
  },
  {
   "cell_type": "code",
   "execution_count": 37,
   "metadata": {},
   "outputs": [
    {
     "data": {
      "text/html": [
       "<div>\n",
       "<style scoped>\n",
       "    .dataframe tbody tr th:only-of-type {\n",
       "        vertical-align: middle;\n",
       "    }\n",
       "\n",
       "    .dataframe tbody tr th {\n",
       "        vertical-align: top;\n",
       "    }\n",
       "\n",
       "    .dataframe thead th {\n",
       "        text-align: right;\n",
       "    }\n",
       "</style>\n",
       "<table border=\"1\" class=\"dataframe\">\n",
       "  <thead>\n",
       "    <tr style=\"text-align: right;\">\n",
       "      <th></th>\n",
       "      <th>Name</th>\n",
       "      <th>1</th>\n",
       "      <th>2</th>\n",
       "      <th>3</th>\n",
       "      <th>4</th>\n",
       "      <th>5</th>\n",
       "      <th>6</th>\n",
       "      <th>7</th>\n",
       "      <th>8</th>\n",
       "    </tr>\n",
       "  </thead>\n",
       "  <tbody>\n",
       "    <tr>\n",
       "      <th>0</th>\n",
       "      <td>臺北市</td>\n",
       "      <td>1,749</td>\n",
       "      <td>1.00%</td>\n",
       "      <td>928</td>\n",
       "      <td>0.53%</td>\n",
       "      <td>0</td>\n",
       "      <td>0.00%</td>\n",
       "      <td>928.00</td>\n",
       "      <td>141</td>\n",
       "    </tr>\n",
       "    <tr>\n",
       "      <th>1</th>\n",
       "      <td>高雄市</td>\n",
       "      <td>2,513</td>\n",
       "      <td>1.44%</td>\n",
       "      <td>2,416</td>\n",
       "      <td>1.38%</td>\n",
       "      <td>102</td>\n",
       "      <td>7.62%</td>\n",
       "      <td>2518.00</td>\n",
       "      <td>296</td>\n",
       "    </tr>\n",
       "    <tr>\n",
       "      <th>2</th>\n",
       "      <td>新北市</td>\n",
       "      <td>1,166</td>\n",
       "      <td>0.67%</td>\n",
       "      <td>1,040</td>\n",
       "      <td>0.60%</td>\n",
       "      <td>430</td>\n",
       "      <td>26.27%</td>\n",
       "      <td>1470.00</td>\n",
       "      <td>524</td>\n",
       "    </tr>\n",
       "    <tr>\n",
       "      <th>3</th>\n",
       "      <td>臺中市</td>\n",
       "      <td>1,038</td>\n",
       "      <td>0.59%</td>\n",
       "      <td>795</td>\n",
       "      <td>0.45%</td>\n",
       "      <td>281</td>\n",
       "      <td>22.28%</td>\n",
       "      <td>1076.00</td>\n",
       "      <td>450</td>\n",
       "    </tr>\n",
       "    <tr>\n",
       "      <th>4</th>\n",
       "      <td>臺南市</td>\n",
       "      <td>530</td>\n",
       "      <td>0.30%</td>\n",
       "      <td>530</td>\n",
       "      <td>0.30%</td>\n",
       "      <td>92</td>\n",
       "      <td>10.70%</td>\n",
       "      <td>622.00</td>\n",
       "      <td>26</td>\n",
       "    </tr>\n",
       "  </tbody>\n",
       "</table>\n",
       "</div>"
      ],
      "text/plain": [
       "     Name      1      2      3      4    5       6         7    8\n",
       "0  　　　臺北市  1,749  1.00%    928  0.53%    0   0.00%   928.00   141\n",
       "1  　　　高雄市  2,513  1.44%  2,416  1.38%  102   7.62%  2518.00   296\n",
       "2  　　　新北市  1,166  0.67%  1,040  0.60%  430  26.27%  1470.00   524\n",
       "3  　　　臺中市  1,038  0.59%    795  0.45%  281  22.28%  1076.00   450\n",
       "4  　　　臺南市    530  0.30%    530  0.30%   92  10.70%   622.00    26"
      ]
     },
     "execution_count": 37,
     "metadata": {},
     "output_type": "execute_result"
    }
   ],
   "source": [
    "# Read file\n",
    "df = pd.read_csv(\"resource/各級政府公共債務統計表(108.3).csv\")\n",
    "\n",
    "# Select data by cities\n",
    "df1 = df.loc[12:17, :]\n",
    "df2 = df.loc[19:34, :]\n",
    "city = pd.concat([df1, df2])\n",
    "city.reset_index(drop=True, inplace=True)\n",
    "# Set column name to be convenient\n",
    "cols = ['Name', '1', '2', '3', '4', '5', '6', '7', '8']\n",
    "city.columns = cols\n",
    "city.head()"
   ]
  },
  {
   "cell_type": "code",
   "execution_count": 5,
   "metadata": {},
   "outputs": [
    {
     "name": "stdout",
     "output_type": "stream",
     "text": [
      "Column names explanation\n",
      "1: 公共債務法規範之債務, 1年以上非自償債務, 預算數, 金額\n",
      "2: 公共債務法規範之債務, 1年以上非自償債務, 預算數, 比率\n",
      "3: 公共債務法規範之債務, 1年以上非自償債務, 實際數, 金額\n",
      "4: 公共債務法規範之債務, 1年以上非自償債務, 實際數, 比率\n",
      "5: 公共債務法規範之債務, 未滿1年債務, 實際數, 金額\n",
      "6: 公共債務法規範之債務, 未滿1年債務, 實際數, 比率\n",
      "7: 公共債務法規範之債務, 債務合計, 實際數, 金額\n",
      "8: 自償性債務, 實際數, 金額\n"
     ]
    }
   ],
   "source": [
    "print('Column names explanation')\n",
    "print('1: 公共債務法規範之債務, 1年以上非自償債務, 預算數, 金額')\n",
    "print('2: 公共債務法規範之債務, 1年以上非自償債務, 預算數, 比率')\n",
    "print('3: 公共債務法規範之債務, 1年以上非自償債務, 實際數, 金額')\n",
    "print('4: 公共債務法規範之債務, 1年以上非自償債務, 實際數, 比率')\n",
    "print('5: 公共債務法規範之債務, 未滿1年債務, 實際數, 金額')\n",
    "print('6: 公共債務法規範之債務, 未滿1年債務, 實際數, 比率')\n",
    "print('7: 公共債務法規範之債務, 債務合計, 實際數, 金額')\n",
    "print('8: 自償性債務, 實際數, 金額')"
   ]
  },
  {
   "cell_type": "code",
   "execution_count": 33,
   "metadata": {},
   "outputs": [
    {
     "data": {
      "text/html": [
       "<div>\n",
       "<style scoped>\n",
       "    .dataframe tbody tr th:only-of-type {\n",
       "        vertical-align: middle;\n",
       "    }\n",
       "\n",
       "    .dataframe tbody tr th {\n",
       "        vertical-align: top;\n",
       "    }\n",
       "\n",
       "    .dataframe thead th {\n",
       "        text-align: right;\n",
       "    }\n",
       "</style>\n",
       "<table border=\"1\" class=\"dataframe\">\n",
       "  <thead>\n",
       "    <tr style=\"text-align: right;\">\n",
       "      <th></th>\n",
       "      <th>Name</th>\n",
       "      <th>7</th>\n",
       "    </tr>\n",
       "  </thead>\n",
       "  <tbody>\n",
       "    <tr>\n",
       "      <th>0</th>\n",
       "      <td>臺北市</td>\n",
       "      <td>928</td>\n",
       "    </tr>\n",
       "    <tr>\n",
       "      <th>1</th>\n",
       "      <td>高雄市</td>\n",
       "      <td>2,518</td>\n",
       "    </tr>\n",
       "    <tr>\n",
       "      <th>2</th>\n",
       "      <td>新北市</td>\n",
       "      <td>1,470</td>\n",
       "    </tr>\n",
       "    <tr>\n",
       "      <th>3</th>\n",
       "      <td>臺中市</td>\n",
       "      <td>1,076</td>\n",
       "    </tr>\n",
       "    <tr>\n",
       "      <th>4</th>\n",
       "      <td>臺南市</td>\n",
       "      <td>622</td>\n",
       "    </tr>\n",
       "  </tbody>\n",
       "</table>\n",
       "</div>"
      ],
      "text/plain": [
       "     Name      7\n",
       "0  　　　臺北市    928\n",
       "1  　　　高雄市  2,518\n",
       "2  　　　新北市  1,470\n",
       "3  　　　臺中市  1,076\n",
       "4  　　　臺南市    622"
      ]
     },
     "execution_count": 33,
     "metadata": {},
     "output_type": "execute_result"
    }
   ],
   "source": [
    "total = city.loc[:, ['Name', '7']]\n",
    "total.head()"
   ]
  },
  {
   "cell_type": "code",
   "execution_count": 34,
   "metadata": {},
   "outputs": [
    {
     "data": {
      "text/plain": [
       "<BarContainer object of 22 artists>"
      ]
     },
     "execution_count": 34,
     "metadata": {},
     "output_type": "execute_result"
    },
    {
     "data": {
      "image/png": "[encoded data removed]",
      "text/plain": [
       "<Figure size 432x288 with 1 Axes>"
      ]
     },
     "metadata": {
      "needs_background": "light"
     },
     "output_type": "display_data"
    }
   ],
   "source": [
    "# Y label cannot print out chinese\n",
    "plt.barh(total['Name'], total['7'])"
   ]
  },
  {
   "cell_type": "code",
   "execution_count": 8,
   "metadata": {},
   "outputs": [
    {
     "data": {
      "text/plain": [
       "['\\u3000\\u3000\\u3000臺北市',\n",
       " '\\u3000\\u3000\\u3000高雄市',\n",
       " '\\u3000\\u3000\\u3000新北市',\n",
       " '\\u3000\\u3000\\u3000臺中市',\n",
       " '\\u3000\\u3000\\u3000臺南市',\n",
       " '\\u3000\\u3000\\u3000桃園市',\n",
       " '\\u3000  **宜蘭縣',\n",
       " '\\u3000\\u3000\\u3000新竹縣',\n",
       " '\\u3000  **苗栗縣',\n",
       " '\\u3000\\u3000\\u3000彰化縣',\n",
       " '\\u3000\\u3000\\u3000南投縣',\n",
       " '\\u3000\\u3000\\u3000雲林縣',\n",
       " '\\u3000\\u3000\\u3000嘉義縣',\n",
       " '\\u3000\\u3000\\u3000屏東縣',\n",
       " '\\u3000\\u3000\\u3000臺東縣',\n",
       " '\\u3000\\u3000\\u3000花蓮縣',\n",
       " '\\u3000\\u3000\\u3000澎湖縣',\n",
       " '\\u3000\\u3000\\u3000基隆市',\n",
       " '\\u3000\\u3000\\u3000新竹市',\n",
       " '\\u3000\\u3000\\u3000嘉義市',\n",
       " '\\u3000\\u3000\\u3000金門縣',\n",
       " '\\u3000\\u3000\\u3000連江縣']"
      ]
     },
     "execution_count": 8,
     "metadata": {},
     "output_type": "execute_result"
    }
   ],
   "source": [
    "list(total[\"Name\"].values)"
   ]
  },
  {
   "cell_type": "code",
   "execution_count": 9,
   "metadata": {},
   "outputs": [],
   "source": [
    "l = ['Taipei',\n",
    " 'Kaohsiung',\n",
    " 'New Taipei',\n",
    " 'Taichung',\n",
    " 'Tainan',\n",
    " 'Taoyuan',\n",
    " 'Yilan',\n",
    " 'Hsinchu',\n",
    " 'Miaoli',\n",
    " 'Changhua',\n",
    " 'Nantou',\n",
    " 'Yunlin',\n",
    " 'Chiayi',\n",
    " 'Pingtung',\n",
    " 'Taitung',\n",
    " 'Hualien',\n",
    " 'Penghu',\n",
    " 'Keelung',\n",
    " 'Hsinchu City',\n",
    " 'Chiayi City',\n",
    " 'Kinmen',\n",
    " 'Lienchiang']"
   ]
  },
  {
   "cell_type": "code",
   "execution_count": 10,
   "metadata": {},
   "outputs": [
    {
     "data": {
      "image/png": "[encoded data removed]",
      "text/plain": [
       "<Figure size 864x432 with 1 Axes>"
      ]
     },
     "metadata": {
      "needs_background": "light"
     },
     "output_type": "display_data"
    }
   ],
   "source": [
    "plt.figure(figsize=(12, 6))\n",
    "plt.grid()\n",
    "plt.barh(l, total['7'])\n",
    "plt.title('Total public debt', fontdict={'fontsize': 15})\n",
    "plt.xlabel('Billion (NTD)', fontdict={'fontsize': 15})\n",
    "plt.ylabel('City', fontdict={'fontsize': 15})\n",
    "plt.xticks(np.arange(0, 3000, 200))\n",
    "plt.show()"
   ]
  },
  {
   "cell_type": "code",
   "execution_count": 17,
   "metadata": {},
   "outputs": [
    {
     "data": {
      "text/plain": [
       "[<matplotlib.lines.Line2D at 0x11ef491d0>]"
      ]
     },
     "execution_count": 17,
     "metadata": {},
     "output_type": "execute_result"
    },
    {
     "data": {
      "image/png": "[encoded data removed]",
      "text/plain": [
       "<Figure size 432x288 with 1 Axes>"
      ]
     },
     "metadata": {
      "needs_background": "light"
     },
     "output_type": "display_data"
    }
   ],
   "source": [
    "plt.plot(l, total['7'])"
   ]
  },
  {
   "cell_type": "code",
   "execution_count": 26,
   "metadata": {},
   "outputs": [
    {
     "name": "stdout",
     "output_type": "stream",
     "text": [
      "<class 'str'>\n"
     ]
    },
    {
     "ename": "ValueError",
     "evalue": "invalid literal for int() with base 10: '2,518'",
     "output_type": "error",
     "traceback": [
      "\u001b[0;31m---------------------------------------------------------------------------\u001b[0m",
      "\u001b[0;31mValueError\u001b[0m                                Traceback (most recent call last)",
      "\u001b[0;32m<ipython-input-26-c4cfc88e488d>\u001b[0m in \u001b[0;36m<module>\u001b[0;34m()\u001b[0m\n\u001b[1;32m      1\u001b[0m \u001b[0;32mfor\u001b[0m \u001b[0mi\u001b[0m \u001b[0;32min\u001b[0m \u001b[0mtotal\u001b[0m\u001b[0;34m[\u001b[0m\u001b[0;34m'7'\u001b[0m\u001b[0;34m]\u001b[0m\u001b[0;34m:\u001b[0m\u001b[0;34m\u001b[0m\u001b[0;34m\u001b[0m\u001b[0m\n\u001b[0;32m----> 2\u001b[0;31m     \u001b[0mint\u001b[0m\u001b[0;34m(\u001b[0m\u001b[0mi\u001b[0m\u001b[0;34m)\u001b[0m\u001b[0;34m\u001b[0m\u001b[0;34m\u001b[0m\u001b[0m\n\u001b[0m\u001b[1;32m      3\u001b[0m     \u001b[0mprint\u001b[0m\u001b[0;34m(\u001b[0m\u001b[0mtype\u001b[0m\u001b[0;34m(\u001b[0m\u001b[0mi\u001b[0m\u001b[0;34m)\u001b[0m\u001b[0;34m)\u001b[0m\u001b[0;34m\u001b[0m\u001b[0;34m\u001b[0m\u001b[0m\n",
      "\u001b[0;31mValueError\u001b[0m: invalid literal for int() with base 10: '2,518'"
     ]
    }
   ],
   "source": [
    "for i in total['7']:\n",
    "    int(i)\n",
    "    print(type(i))"
   ]
  },
  {
   "cell_type": "code",
   "execution_count": 35,
   "metadata": {},
   "outputs": [
    {
     "data": {
      "text/plain": [
       "'2,518'"
      ]
     },
     "execution_count": 35,
     "metadata": {},
     "output_type": "execute_result"
    }
   ],
   "source": [
    "total['7'][1]"
   ]
  },
  {
   "cell_type": "code",
   "execution_count": 19,
   "metadata": {},
   "outputs": [
    {
     "data": {
      "text/plain": [
       "[<matplotlib.lines.Line2D at 0x11f6ac9e8>]"
      ]
     },
     "execution_count": 19,
     "metadata": {},
     "output_type": "execute_result"
    },
    {
     "data": {
      "image/png": "[encoded data removed]",
      "text/plain": [
       "<Figure size 432x288 with 1 Axes>"
      ]
     },
     "metadata": {
      "needs_background": "light"
     },
     "output_type": "display_data"
    }
   ],
   "source": [
    "plt.plot(total['Name'], total['7'])"
   ]
  },
  {
   "cell_type": "code",
   "execution_count": null,
   "metadata": {},
   "outputs": [],
   "source": []
  }
 ],
 "metadata": {
  "kernelspec": {
   "display_name": "Python 3",
   "language": "python",
   "name": "python3"
  },
  "language_info": {
   "codemirror_mode": {
    "name": "ipython",
    "version": 3
   },
   "file_extension": ".py",
   "mimetype": "text/x-python",
   "name": "python",
   "nbconvert_exporter": "python",
   "pygments_lexer": "ipython3",
   "version": "3.7.1"
  }
 },
 "nbformat": 4,
 "nbformat_minor": 2
}
