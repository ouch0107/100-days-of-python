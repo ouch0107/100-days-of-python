{
 "cells": [
  {
   "cell_type": "markdown",
   "metadata": {},
   "source": [
    "<font face=\"Courier\">\n",
    "    Question 21\n",
    "Level 3\n",
    "\n",
    "Question:\n",
    "A robot moves in a plane starting from the original point (0,0). The robot can move toward UP, DOWN, LEFT and RIGHT with a given steps. The trace of robot movement is shown as the following:  \n",
    "UP 5  \n",
    "DOWN 3  \n",
    "LEFT 3  \n",
    "RIGHT 2    \n",
    "The numbers after the direction are steps. Please write a program to compute the distance from current position after a sequence of movement and original point. If the distance is a float, then just print the nearest integer.  \n",
    "Example:  \n",
    "If the following tuples are given as input to the program:  \n",
    "UP 5  \n",
    "DOWN 3  \n",
    "LEFT 3  \n",
    "RIGHT 2  \n",
    "Then, the output of the program should be:  \n",
    "2  \n",
    "\n",
    "Hints:  \n",
    "In case of input data being supplied to the question, it should be assumed to be a console input.  \n",
    "</font>"
   ]
  },
  {
   "cell_type": "code",
   "execution_count": 1,
   "metadata": {},
   "outputs": [
    {
     "name": "stdout",
     "output_type": "stream",
     "text": [
      "Type direction and steps, for example, UP 5. Type 'finish' if you've done.\n",
      "Robot move: UP 5\n",
      "Robot move: DOWN 2\n",
      "Robot move: RIGHT 9\n",
      "Robot move: LEFT 4\n",
      "Robot move: finish\n",
      "Distance(approximately): 6\n"
     ]
    }
   ],
   "source": [
    "import re\n",
    "import math\n",
    "\n",
    "x = 0\n",
    "y = 0\n",
    "s = 0\n",
    "switch = {\"UP\": }\n",
    "pattern = re.compile(\"([A-Z]+)\\s*(\\d+)\")\n",
    "print(\"Type direction and steps, for example, UP 5. Type 'finish' if you've done.\")\n",
    "while True:\n",
    "    move = input(\"Robot move: \")\n",
    "    if move == \"finish\":\n",
    "        break\n",
    "    step = pattern.search(move) \n",
    "    if step:\n",
    "        if step.group(1) == \"UP\":\n",
    "            x = x + int(step.group(2))\n",
    "        elif step.group(1) == \"DOWN\":\n",
    "            x = x - int(step.group(2))\n",
    "        elif step.group(1) == \"RIGHT\":\n",
    "            y = y + int(step.group(2))\n",
    "        elif step.group(1) == \"LEFT\":\n",
    "            y = y - int(step.group(2))\n",
    "        else:\n",
    "            print(\"Wrong input type.\")\n",
    "    else:\n",
    "        print(\"Wrong input type.\")\n",
    "        \n",
    "print(f\"Distance(approximately): {round(math.sqrt(x**2 + y**2))}\")"
   ]
  },
  {
   "cell_type": "code",
   "execution_count": null,
   "metadata": {},
   "outputs": [],
   "source": []
  }
 ],
 "metadata": {
  "kernelspec": {
   "display_name": "Python 3",
   "language": "python",
   "name": "python3"
  },
  "language_info": {
   "codemirror_mode": {
    "name": "ipython",
    "version": 3
   },
   "file_extension": ".py",
   "mimetype": "text/x-python",
   "name": "python",
   "nbconvert_exporter": "python",
   "pygments_lexer": "ipython3",
   "version": "3.7.1"
  }
 },
 "nbformat": 4,
 "nbformat_minor": 2
}
