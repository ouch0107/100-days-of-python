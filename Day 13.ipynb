{
 "cells": [
  {
   "cell_type": "markdown",
   "metadata": {},
   "source": [
    "<font face=\"Courier\">\n",
    "    Question:\n",
    "Define a function which can generate and print a tuple where the value are square of numbers between 1 and 20 (both included).\n",
    "\n",
    "Hints:  \n",
    "\n",
    "Use ** operator to get power of a number.  \n",
    "Use range() for loops.  \n",
    "Use list.append() to add values into a list.  \n",
    "Use tuple() to get a tuple from a list.  \n",
    "</font>"
   ]
  },
  {
   "cell_type": "code",
   "execution_count": 3,
   "metadata": {},
   "outputs": [],
   "source": [
    "def sqr_list(x, y):\n",
    "    l = list(range(x, y + 1))\n",
    "    for i in l:\n",
    "        print((i, i ** 2))"
   ]
  },
  {
   "cell_type": "code",
   "execution_count": 4,
   "metadata": {},
   "outputs": [
    {
     "name": "stdout",
     "output_type": "stream",
     "text": [
      "(1, 1)\n",
      "(2, 4)\n",
      "(3, 9)\n",
      "(4, 16)\n",
      "(5, 25)\n",
      "(6, 36)\n",
      "(7, 49)\n",
      "(8, 64)\n",
      "(9, 81)\n",
      "(10, 100)\n",
      "(11, 121)\n",
      "(12, 144)\n",
      "(13, 169)\n",
      "(14, 196)\n",
      "(15, 225)\n",
      "(16, 256)\n",
      "(17, 289)\n",
      "(18, 324)\n",
      "(19, 361)\n",
      "(20, 400)\n"
     ]
    }
   ],
   "source": [
    "sqr_list(1, 20)"
   ]
  },
  {
   "cell_type": "markdown",
   "metadata": {},
   "source": [
    "<font face=\"Courier\">\n",
    "    Question:\n",
    "\n",
    "By using list comprehension, please write a program to print the list after removing the 0th,4th,5th numbers in [12,24,35,70,88,120,155].\n",
    "\n",
    "Hints:  \n",
    "Use list comprehension to delete a bunch of element from a list.  \n",
    "Use enumerate() to get (index, value) tuple.  \n",
    "</font>"
   ]
  },
  {
   "cell_type": "code",
   "execution_count": 37,
   "metadata": {},
   "outputs": [],
   "source": [
    "L = [12,24,35,70,88,120,155]"
   ]
  },
  {
   "cell_type": "code",
   "execution_count": 48,
   "metadata": {},
   "outputs": [],
   "source": [
    "l = [x for x in L if L.index(x) not in [0, 4, 5]]"
   ]
  },
  {
   "cell_type": "code",
   "execution_count": 49,
   "metadata": {},
   "outputs": [
    {
     "name": "stdout",
     "output_type": "stream",
     "text": [
      "(0, 24)\n",
      "(1, 35)\n",
      "(2, 70)\n",
      "(3, 155)\n"
     ]
    }
   ],
   "source": [
    "for index, value in enumerate(l):\n",
    "    print((index, value))"
   ]
  },
  {
   "cell_type": "code",
   "execution_count": null,
   "metadata": {},
   "outputs": [],
   "source": []
  }
 ],
 "metadata": {
  "kernelspec": {
   "display_name": "Python 3",
   "language": "python",
   "name": "python3"
  },
  "language_info": {
   "codemirror_mode": {
    "name": "ipython",
    "version": 3
   },
   "file_extension": ".py",
   "mimetype": "text/x-python",
   "name": "python",
   "nbconvert_exporter": "python",
   "pygments_lexer": "ipython3",
   "version": "3.7.1"
  }
 },
 "nbformat": 4,
 "nbformat_minor": 2
}
