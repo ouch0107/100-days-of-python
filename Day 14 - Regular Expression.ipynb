{
 "cells": [
  {
   "cell_type": "markdown",
   "metadata": {},
   "source": [
    "<font face=\"Courier\">\n",
    "    Question:\n",
    "\n",
    "Assuming that we have some email addresses in the \"username@companyname.com\" format, please write program to print the user name of a given email address. Both user names and company names are composed of letters only.\n",
    "\n",
    "Example:\n",
    "If the following email address is given as input to the program:\n",
    "\n",
    "john@google.com\n",
    "\n",
    "Then, the output of the program should be:\n",
    "\n",
    "john\n",
    "\n",
    "In case of input data being supplied to the question, it should be assumed to be a console input.\n",
    "\n",
    "Hints:\n",
    "\n",
    "Use \\w to match letters\n",
    "\n",
    "Solution:\n",
    "import re\n",
    "emailAddress = raw_input()  \n",
    "pat2 = \"(\\w+)@((\\w+\\.)+(com))\"  \n",
    "r2 = re.match(pat2,emailAddress)  \n",
    "print r2.group(1)  \n",
    "</font>"
   ]
  },
  {
   "cell_type": "code",
   "execution_count": 1,
   "metadata": {},
   "outputs": [
    {
     "name": "stdout",
     "output_type": "stream",
     "text": [
      "Email:john@google.com\n"
     ]
    }
   ],
   "source": [
    "email = input(\"Email:\")"
   ]
  },
  {
   "cell_type": "code",
   "execution_count": 2,
   "metadata": {},
   "outputs": [],
   "source": [
    "name = \"\"\n",
    "for i in range(len(email)):\n",
    "    if email[i] == \"@\":\n",
    "        break\n",
    "    else:\n",
    "        name = name + email[i]"
   ]
  },
  {
   "cell_type": "code",
   "execution_count": 3,
   "metadata": {},
   "outputs": [
    {
     "data": {
      "text/plain": [
       "'john'"
      ]
     },
     "execution_count": 3,
     "metadata": {},
     "output_type": "execute_result"
    }
   ],
   "source": [
    "name"
   ]
  },
  {
   "cell_type": "markdown",
   "metadata": {},
   "source": [
    "#### The above is a simple solution to match the output of the question"
   ]
  },
  {
   "cell_type": "markdown",
   "metadata": {},
   "source": [
    "### Regular expression operation\n",
    "\n",
    "Ref:  \n",
    "[Python doc](https://docs.python.org/3/library/re.html?highlight=re#module-re)  \n",
    "https://ithelp.ithome.com.tw/articles/10194954  \n",
    "https://ithelp.ithome.com.tw/articles/10197315  \n",
    "https://regex101.com/  \n",
    "http://120.105.184.250/cswang/thit/Linux/RegularExpression.htm  \n",
    "https://regexone.com/lesson/introduction_abcs 互動式教學  \n",
    "https://regexone.com/references/python Python re 教學  "
   ]
  },
  {
   "cell_type": "code",
   "execution_count": 4,
   "metadata": {},
   "outputs": [
    {
     "name": "stdout",
     "output_type": "stream",
     "text": [
      "Email:john@google.com\n",
      "john\n"
     ]
    }
   ],
   "source": [
    "import re \n",
    "emailAddress = input(\"Email:\")\n",
    "pat2 = r\"(\\w+)@((\\w+.)+(com))\"\n",
    "r2 = re.match(pat2,emailAddress)\n",
    "print (r2.group(1))"
   ]
  },
  {
   "cell_type": "code",
   "execution_count": 5,
   "metadata": {},
   "outputs": [
    {
     "data": {
      "text/plain": [
       "<callable_iterator at 0x10a397278>"
      ]
     },
     "execution_count": 5,
     "metadata": {},
     "output_type": "execute_result"
    }
   ],
   "source": [
    "test_str = (\"桃園市8德區中華段40地號\\n\"\n",
    "    \"彰化縣花壇鄉花壇段1418-0000地號\\n\"\n",
    "    \"臺中市南屯區埔興段35-12地號\\n\"\n",
    "    \"桃園市蘆竹區內興段32地號\\n\"\n",
    "    \"桃園市楊梅區大金山下段月眉山下小段1地號\")\n",
    "    \n",
    "pat = re.compile(r\"段(\\d+-*\\d*)\")\n",
    "r = pat.finditer(test_str)\n",
    "r"
   ]
  },
  {
   "cell_type": "code",
   "execution_count": 6,
   "metadata": {},
   "outputs": [
    {
     "name": "stdout",
     "output_type": "stream",
     "text": [
      "0, 40\n",
      "1, 1418-0000\n",
      "2, 35-12\n",
      "3, 32\n",
      "4, 1\n"
     ]
    }
   ],
   "source": [
    "for matchNum, match in enumerate(r):\n",
    "    print(f\"{matchNum}, {match.group(1)}\")"
   ]
  },
  {
   "cell_type": "code",
   "execution_count": 7,
   "metadata": {},
   "outputs": [
    {
     "name": "stdout",
     "output_type": "stream",
     "text": [
      "1\n",
      "2\n",
      "3\n"
     ]
    }
   ],
   "source": [
    "l = [1,2,3]\n",
    "itr = iter(l)\n",
    "\n",
    "for i in itr:\n",
    "    print(i)\n",
    "    \n",
    "for i in itr:\n",
    "    print(i)"
   ]
  },
  {
   "cell_type": "markdown",
   "metadata": {},
   "source": [
    "#### iterator cannot iterate or enumerate more than one times  \n",
    "https://stackoverflow.com/questions/25336726/why-cant-i-iterate-twice-over-the-same-data"
   ]
  },
  {
   "cell_type": "code",
   "execution_count": 8,
   "metadata": {},
   "outputs": [
    {
     "name": "stdout",
     "output_type": "stream",
     "text": [
      "January 7\n",
      "Match at index 82, 84\n"
     ]
    }
   ],
   "source": [
    "test_str1 = \"January 7, April 20\"\n",
    "regex1 = r\"[A-Za-z]+ \\d+\"\n",
    "match1 = re.search(regex1, test_str1)\n",
    "# re.search() will return a re.MatchObject if find the first match\n",
    "\n",
    "print(match1.group(0))\n",
    "print(f\"Match at index {match.start()}, {match.end()}\")"
   ]
  },
  {
   "cell_type": "code",
   "execution_count": 9,
   "metadata": {},
   "outputs": [
    {
     "data": {
      "text/plain": [
       "[('January', '7'), ('April', '20')]"
      ]
     },
     "execution_count": 9,
     "metadata": {},
     "output_type": "execute_result"
    }
   ],
   "source": [
    "test_str2 = \"January 7, April 20\"\n",
    "regex2 = r\"([A-Za-z]+) (\\d+)\"\n",
    "matches2 = re.findall(regex2, test_str2)\n",
    "# re.findall() will return a list after search the whole string\n",
    "matches2"
   ]
  },
  {
   "cell_type": "code",
   "execution_count": 10,
   "metadata": {},
   "outputs": [
    {
     "name": "stdout",
     "output_type": "stream",
     "text": [
      "Month: January, Date:7\n",
      "Month: April, Date:20\n"
     ]
    }
   ],
   "source": [
    "for match in matches2:\n",
    "    print(f\"Month: {match[0]}, Date:{match[1]}\")"
   ]
  },
  {
   "cell_type": "code",
   "execution_count": 11,
   "metadata": {},
   "outputs": [
    {
     "name": "stdout",
     "output_type": "stream",
     "text": [
      "Match at index (0, 9)\n",
      "Month: January\n",
      "Date: 7\n",
      "Match at index (11, 19)\n",
      "Month: April\n",
      "Date: 20\n"
     ]
    }
   ],
   "source": [
    "# if you'd like to use re.MatchObject's method such as start(), it's recommanded to use re.finditer()\n",
    "test_str3 = \"January 7, April 20\"\n",
    "regex3 = r\"([A-Za-z]+) (\\d+)\"\n",
    "matches3 = re.finditer(regex3, test_str3)\n",
    "for match in matches3:\n",
    "    print(f\"Match at index ({match.start()}, {match.end()})\")\n",
    "    print(f\"Month: {match.group(1)}\")\n",
    "    print(f\"Date: {match.group(2)}\")"
   ]
  },
  {
   "cell_type": "code",
   "execution_count": 12,
   "metadata": {},
   "outputs": [
    {
     "name": "stdout",
     "output_type": "stream",
     "text": [
      "7 of January, 20 of April\n"
     ]
    }
   ],
   "source": [
    "test_str4 = \"January 7, April 20\"\n",
    "regex4 = r\"([A-Za-z]+) (\\d+)\"\n",
    "print(re.sub(regex4, r\"\\2 of \\1\", test_str4))"
   ]
  },
  {
   "cell_type": "code",
   "execution_count": null,
   "metadata": {},
   "outputs": [],
   "source": []
  }
 ],
 "metadata": {
  "kernelspec": {
   "display_name": "Python 3",
   "language": "python",
   "name": "python3"
  },
  "language_info": {
   "codemirror_mode": {
    "name": "ipython",
    "version": 3
   },
   "file_extension": ".py",
   "mimetype": "text/x-python",
   "name": "python",
   "nbconvert_exporter": "python",
   "pygments_lexer": "ipython3",
   "version": "3.7.1"
  }
 },
 "nbformat": 4,
 "nbformat_minor": 2
}
