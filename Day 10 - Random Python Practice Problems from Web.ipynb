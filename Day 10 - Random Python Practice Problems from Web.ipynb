{
 "cells": [
  {
   "cell_type": "code",
   "execution_count": 1,
   "metadata": {},
   "outputs": [],
   "source": [
    "import requests\n",
    "from bs4 import BeautifulSoup\n",
    "import pandas as pd\n",
    "import random"
   ]
  },
  {
   "cell_type": "code",
   "execution_count": 2,
   "metadata": {},
   "outputs": [],
   "source": [
    "url = \"https://github.com/zhiwehu/Python-programming-exercises/blob/master/100%2B%20Python%20challenging%20programming%20exercises.txt\"\n",
    "res = requests.get(url)\n",
    "soup = BeautifulSoup(res.text, \"html.parser\")\n",
    "pset = pd.read_html(url)"
   ]
  },
  {
   "cell_type": "code",
   "execution_count": 3,
   "metadata": {},
   "outputs": [],
   "source": [
    "pset = pset[0]"
   ]
  },
  {
   "cell_type": "code",
   "execution_count": 4,
   "metadata": {},
   "outputs": [
    {
     "data": {
      "text/html": [
       "<div>\n",
       "<style scoped>\n",
       "    .dataframe tbody tr th:only-of-type {\n",
       "        vertical-align: middle;\n",
       "    }\n",
       "\n",
       "    .dataframe tbody tr th {\n",
       "        vertical-align: top;\n",
       "    }\n",
       "\n",
       "    .dataframe thead th {\n",
       "        text-align: right;\n",
       "    }\n",
       "</style>\n",
       "<table border=\"1\" class=\"dataframe\">\n",
       "  <thead>\n",
       "    <tr style=\"text-align: right;\">\n",
       "      <th></th>\n",
       "      <th>0</th>\n",
       "      <th>1</th>\n",
       "    </tr>\n",
       "  </thead>\n",
       "  <tbody>\n",
       "    <tr>\n",
       "      <th>0</th>\n",
       "      <td>NaN</td>\n",
       "      <td>100+ Python challenging programming exercises</td>\n",
       "    </tr>\n",
       "    <tr>\n",
       "      <th>1</th>\n",
       "      <td>NaN</td>\n",
       "      <td>NaN</td>\n",
       "    </tr>\n",
       "    <tr>\n",
       "      <th>2</th>\n",
       "      <td>NaN</td>\n",
       "      <td>1.\\tLevel description</td>\n",
       "    </tr>\n",
       "    <tr>\n",
       "      <th>3</th>\n",
       "      <td>NaN</td>\n",
       "      <td>Level\\tDescription</td>\n",
       "    </tr>\n",
       "    <tr>\n",
       "      <th>4</th>\n",
       "      <td>NaN</td>\n",
       "      <td>Level 1\\tBeginner means someone who has just g...</td>\n",
       "    </tr>\n",
       "  </tbody>\n",
       "</table>\n",
       "</div>"
      ],
      "text/plain": [
       "    0                                                  1\n",
       "0 NaN      100+ Python challenging programming exercises\n",
       "1 NaN                                                NaN\n",
       "2 NaN                              1.\\tLevel description\n",
       "3 NaN                                 Level\\tDescription\n",
       "4 NaN  Level 1\\tBeginner means someone who has just g..."
      ]
     },
     "execution_count": 4,
     "metadata": {},
     "output_type": "execute_result"
    }
   ],
   "source": [
    "pset.head()"
   ]
  },
  {
   "cell_type": "code",
   "execution_count": 5,
   "metadata": {},
   "outputs": [],
   "source": [
    "pset.drop(0, axis=1, inplace=True)\n",
    "pset.columns = [\"text\"]"
   ]
  },
  {
   "cell_type": "code",
   "execution_count": 6,
   "metadata": {},
   "outputs": [
    {
     "data": {
      "text/html": [
       "<div>\n",
       "<style scoped>\n",
       "    .dataframe tbody tr th:only-of-type {\n",
       "        vertical-align: middle;\n",
       "    }\n",
       "\n",
       "    .dataframe tbody tr th {\n",
       "        vertical-align: top;\n",
       "    }\n",
       "\n",
       "    .dataframe thead th {\n",
       "        text-align: right;\n",
       "    }\n",
       "</style>\n",
       "<table border=\"1\" class=\"dataframe\">\n",
       "  <thead>\n",
       "    <tr style=\"text-align: right;\">\n",
       "      <th></th>\n",
       "      <th>text</th>\n",
       "    </tr>\n",
       "  </thead>\n",
       "  <tbody>\n",
       "    <tr>\n",
       "      <th>0</th>\n",
       "      <td>100+ Python challenging programming exercises</td>\n",
       "    </tr>\n",
       "    <tr>\n",
       "      <th>1</th>\n",
       "      <td>NaN</td>\n",
       "    </tr>\n",
       "    <tr>\n",
       "      <th>2</th>\n",
       "      <td>1.\\tLevel description</td>\n",
       "    </tr>\n",
       "    <tr>\n",
       "      <th>3</th>\n",
       "      <td>Level\\tDescription</td>\n",
       "    </tr>\n",
       "    <tr>\n",
       "      <th>4</th>\n",
       "      <td>Level 1\\tBeginner means someone who has just g...</td>\n",
       "    </tr>\n",
       "  </tbody>\n",
       "</table>\n",
       "</div>"
      ],
      "text/plain": [
       "                                                text\n",
       "0      100+ Python challenging programming exercises\n",
       "1                                                NaN\n",
       "2                              1.\\tLevel description\n",
       "3                                 Level\\tDescription\n",
       "4  Level 1\\tBeginner means someone who has just g..."
      ]
     },
     "execution_count": 6,
     "metadata": {},
     "output_type": "execute_result"
    }
   ],
   "source": [
    "pset.head()"
   ]
  },
  {
   "cell_type": "code",
   "execution_count": 7,
   "metadata": {},
   "outputs": [
    {
     "data": {
      "text/plain": [
       "Int64Index([  10,   17,   36,   38,   61,   63,   85,   87,  109,  111,\n",
       "            ...\n",
       "            2169, 2185, 2201, 2224, 2253, 2285, 2309, 2332, 2348, 2372],\n",
       "           dtype='int64', length=127)"
      ]
     },
     "execution_count": 7,
     "metadata": {},
     "output_type": "execute_result"
    }
   ],
   "source": [
    "pset_index = pset[pset.text==\"#----------------------------------------#\"].index\n",
    "pset_index"
   ]
  },
  {
   "cell_type": "code",
   "execution_count": 8,
   "metadata": {},
   "outputs": [
    {
     "data": {
      "text/html": [
       "<div>\n",
       "<style scoped>\n",
       "    .dataframe tbody tr th:only-of-type {\n",
       "        vertical-align: middle;\n",
       "    }\n",
       "\n",
       "    .dataframe tbody tr th {\n",
       "        vertical-align: top;\n",
       "    }\n",
       "\n",
       "    .dataframe thead th {\n",
       "        text-align: right;\n",
       "    }\n",
       "</style>\n",
       "<table border=\"1\" class=\"dataframe\">\n",
       "  <thead>\n",
       "    <tr style=\"text-align: right;\">\n",
       "      <th></th>\n",
       "      <th>text</th>\n",
       "    </tr>\n",
       "  </thead>\n",
       "  <tbody>\n",
       "    <tr>\n",
       "      <th>17</th>\n",
       "      <td>#----------------------------------------#</td>\n",
       "    </tr>\n",
       "    <tr>\n",
       "      <th>18</th>\n",
       "      <td>Question 1</td>\n",
       "    </tr>\n",
       "    <tr>\n",
       "      <th>19</th>\n",
       "      <td>Level 1</td>\n",
       "    </tr>\n",
       "    <tr>\n",
       "      <th>20</th>\n",
       "      <td>NaN</td>\n",
       "    </tr>\n",
       "    <tr>\n",
       "      <th>21</th>\n",
       "      <td>Question:</td>\n",
       "    </tr>\n",
       "    <tr>\n",
       "      <th>22</th>\n",
       "      <td>Write a program which will find all such numbe...</td>\n",
       "    </tr>\n",
       "    <tr>\n",
       "      <th>23</th>\n",
       "      <td>between 2000 and 3200 (both included).</td>\n",
       "    </tr>\n",
       "    <tr>\n",
       "      <th>24</th>\n",
       "      <td>The numbers obtained should be printed in a co...</td>\n",
       "    </tr>\n",
       "    <tr>\n",
       "      <th>25</th>\n",
       "      <td>NaN</td>\n",
       "    </tr>\n",
       "    <tr>\n",
       "      <th>26</th>\n",
       "      <td>Hints:</td>\n",
       "    </tr>\n",
       "    <tr>\n",
       "      <th>27</th>\n",
       "      <td>Consider use range(#begin, #end) method</td>\n",
       "    </tr>\n",
       "    <tr>\n",
       "      <th>28</th>\n",
       "      <td>NaN</td>\n",
       "    </tr>\n",
       "    <tr>\n",
       "      <th>29</th>\n",
       "      <td>Solution:</td>\n",
       "    </tr>\n",
       "    <tr>\n",
       "      <th>30</th>\n",
       "      <td>l=[]</td>\n",
       "    </tr>\n",
       "    <tr>\n",
       "      <th>31</th>\n",
       "      <td>for i in range(2000, 3201):</td>\n",
       "    </tr>\n",
       "    <tr>\n",
       "      <th>32</th>\n",
       "      <td>if (i%7==0) and (i%5!=0):</td>\n",
       "    </tr>\n",
       "    <tr>\n",
       "      <th>33</th>\n",
       "      <td>l.append(str(i))</td>\n",
       "    </tr>\n",
       "    <tr>\n",
       "      <th>34</th>\n",
       "      <td>NaN</td>\n",
       "    </tr>\n",
       "    <tr>\n",
       "      <th>35</th>\n",
       "      <td>print ','.join(l)</td>\n",
       "    </tr>\n",
       "    <tr>\n",
       "      <th>36</th>\n",
       "      <td>#----------------------------------------#</td>\n",
       "    </tr>\n",
       "  </tbody>\n",
       "</table>\n",
       "</div>"
      ],
      "text/plain": [
       "                                                 text\n",
       "17         #----------------------------------------#\n",
       "18                                         Question 1\n",
       "19                                            Level 1\n",
       "20                                                NaN\n",
       "21                                          Question:\n",
       "22  Write a program which will find all such numbe...\n",
       "23             between 2000 and 3200 (both included).\n",
       "24  The numbers obtained should be printed in a co...\n",
       "25                                                NaN\n",
       "26                                             Hints:\n",
       "27            Consider use range(#begin, #end) method\n",
       "28                                                NaN\n",
       "29                                          Solution:\n",
       "30                                               l=[]\n",
       "31                        for i in range(2000, 3201):\n",
       "32                          if (i%7==0) and (i%5!=0):\n",
       "33                                   l.append(str(i))\n",
       "34                                                NaN\n",
       "35                                  print ','.join(l)\n",
       "36         #----------------------------------------#"
      ]
     },
     "execution_count": 8,
     "metadata": {},
     "output_type": "execute_result"
    }
   ],
   "source": [
    "pset.loc[17:36]"
   ]
  },
  {
   "cell_type": "code",
   "execution_count": 9,
   "metadata": {},
   "outputs": [
    {
     "data": {
      "text/plain": [
       "array([['#----------------------------------------#'],\n",
       "       ['Question 1'],\n",
       "       ['Level 1'],\n",
       "       [nan],\n",
       "       ['Question:'],\n",
       "       ['Write a program which will find all such numbers which are divisible by 7 but are not a multiple of 5,'],\n",
       "       ['between 2000 and 3200 (both included).'],\n",
       "       ['The numbers obtained should be printed in a comma-separated sequence on a single line.'],\n",
       "       [nan],\n",
       "       ['Hints:'],\n",
       "       ['Consider use range(#begin, #end) method'],\n",
       "       [nan],\n",
       "       ['Solution:'],\n",
       "       ['l=[]'],\n",
       "       ['for i in range(2000, 3201):'],\n",
       "       ['if (i%7==0) and (i%5!=0):'],\n",
       "       ['l.append(str(i))'],\n",
       "       [nan],\n",
       "       [\"print ','.join(l)\"],\n",
       "       ['#----------------------------------------#']], dtype=object)"
      ]
     },
     "execution_count": 9,
     "metadata": {},
     "output_type": "execute_result"
    }
   ],
   "source": [
    "pset.loc[17:36].get_values()"
   ]
  },
  {
   "cell_type": "code",
   "execution_count": 10,
   "metadata": {},
   "outputs": [],
   "source": [
    "q = []\n",
    "for i in range(len(pset_index) - 1):\n",
    "    q.append(pset.loc[pset_index[i]:pset_index[i+1]].get_values())"
   ]
  },
  {
   "cell_type": "code",
   "execution_count": 11,
   "metadata": {},
   "outputs": [
    {
     "name": "stdout",
     "output_type": "stream",
     "text": [
      "#----------------------------------------#\n",
      "Question 1\n",
      "Level 1\n",
      "nan\n",
      "Question:\n",
      "Write a program which will find all such numbers which are divisible by 7 but are not a multiple of 5,\n",
      "between 2000 and 3200 (both included).\n",
      "The numbers obtained should be printed in a comma-separated sequence on a single line.\n",
      "nan\n",
      "Hints:\n",
      "Consider use range(#begin, #end) method\n",
      "nan\n",
      "Solution:\n",
      "l=[]\n",
      "for i in range(2000, 3201):\n",
      "if (i%7==0) and (i%5!=0):\n",
      "l.append(str(i))\n",
      "nan\n",
      "print ','.join(l)\n",
      "#----------------------------------------#\n"
     ]
    }
   ],
   "source": [
    "for x in q[1]:\n",
    "    print(x[0])"
   ]
  },
  {
   "cell_type": "code",
   "execution_count": 21,
   "metadata": {},
   "outputs": [
    {
     "name": "stdout",
     "output_type": "stream",
     "text": [
      "#----------------------------------------#\n",
      "\n",
      "Question:\n",
      "\n",
      "Please write a program which accepts a string from console and print the characters that have even indexes.\n",
      "\n",
      "Example:\n",
      "If the following string is given as input to the program:\n",
      "\n",
      "H1e2l3l4o5w6o7r8l9d\n",
      "\n",
      "Then, the output of the program should be:\n",
      "\n",
      "Helloworld\n",
      "\n",
      "Hints:\n",
      "Use list[::2] to iterate a list by step 2.\n",
      "\n",
      "Solution:\n",
      "\n",
      "s=raw_input()\n",
      "s = s[::2]\n",
      "print s\n",
      "#----------------------------------------#\n"
     ]
    }
   ],
   "source": [
    "for x in q[random.randint(0,len(q)-1)]:\n",
    "    \n",
    "    # Strings can't be tested by np.isnan(). It has an alternative way to check NaN.\n",
    "    if str(x) == \"[nan]\":\n",
    "        print(\"\")\n",
    "    else:\n",
    "        print(x[0])"
   ]
  },
  {
   "cell_type": "code",
   "execution_count": null,
   "metadata": {},
   "outputs": [],
   "source": []
  }
 ],
 "metadata": {
  "kernelspec": {
   "display_name": "Python 3",
   "language": "python",
   "name": "python3"
  },
  "language_info": {
   "codemirror_mode": {
    "name": "ipython",
    "version": 3
   },
   "file_extension": ".py",
   "mimetype": "text/x-python",
   "name": "python",
   "nbconvert_exporter": "python",
   "pygments_lexer": "ipython3",
   "version": "3.7.1"
  }
 },
 "nbformat": 4,
 "nbformat_minor": 2
}
