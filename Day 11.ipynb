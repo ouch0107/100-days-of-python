{
 "cells": [
  {
   "cell_type": "markdown",
   "metadata": {},
   "source": [
    "<font face=\"Courier\">\n",
    "#----------------------------------------#\n",
    "\n",
    "Question:\n",
    "\n",
    "\n",
    "The Fibonacci Sequence is computed based on the following formula:\n",
    "\n",
    "\n",
    "f(n)=0 if n=0\n",
    "f(n)=1 if n=1\n",
    "f(n)=f(n-1)+f(n-2) if n>1\n",
    "\n",
    "Please write a program to compute the value of f(n) with a given n input by console.\n",
    "\n",
    "Example:\n",
    "If the following n is given as input to the program:\n",
    "\n",
    "7\n",
    "\n",
    "Then, the output of the program should be:\n",
    "\n",
    "13\n",
    "\n",
    "In case of input data being supplied to the question, it should be assumed to be a console input.\n",
    "\n",
    "Hints:\n",
    "We can define recursive function in Python.\n",
    "\n",
    "Solution:\n",
    "\n",
    "def f(n):\n",
    "if n == 0: return 0\n",
    "elif n == 1: return 1\n",
    "else: return f(n-1)+f(n-2)\n",
    "\n",
    "n=int(raw_input())\n",
    "print f(n)\n",
    "\n",
    "\n",
    "#----------------------------------------#\n",
    "</font>"
   ]
  },
  {
   "cell_type": "code",
   "execution_count": 11,
   "metadata": {},
   "outputs": [],
   "source": [
    "def Fibonacci(n):\n",
    "    if n == 0:\n",
    "        return 0\n",
    "    elif n == 1:\n",
    "        return 1\n",
    "    elif n > 1:\n",
    "        return F(n-1)+F(n-2)"
   ]
  },
  {
   "cell_type": "code",
   "execution_count": 12,
   "metadata": {},
   "outputs": [
    {
     "name": "stdout",
     "output_type": "stream",
     "text": [
      "Enter a postive integer:7\n"
     ]
    },
    {
     "data": {
      "text/plain": [
       "13"
      ]
     },
     "execution_count": 12,
     "metadata": {},
     "output_type": "execute_result"
    }
   ],
   "source": [
    "while True:\n",
    "    n = int(input(\"Enter a postive integer:\"))\n",
    "    if n > 0:\n",
    "        break\n",
    "\n",
    "Fibonacci(n)"
   ]
  },
  {
   "cell_type": "markdown",
   "metadata": {},
   "source": [
    "<font face=\"Courier\">\n",
    "#----------------------------------------#\n",
    "\n",
    "Question:\n",
    "\n",
    "Please write a program to output a random number, which is divisible by 5 and 7, between 0 and 200 inclusive using random module and list comprehension.\n",
    "\n",
    "\n",
    "Hints:\n",
    "Use random.choice() to a random element from a list.\n",
    "\n",
    "Solution:\n",
    "\n",
    "import random\n",
    "\n",
    "print random.choice([i for i in range(201) if i%5==0 and i%7==0])\n",
    "\n",
    "\n",
    "#----------------------------------------#\n",
    "</font>"
   ]
  },
  {
   "cell_type": "code",
   "execution_count": 13,
   "metadata": {},
   "outputs": [],
   "source": [
    "import random"
   ]
  },
  {
   "cell_type": "code",
   "execution_count": 27,
   "metadata": {},
   "outputs": [],
   "source": [
    "L = list(range(201))"
   ]
  },
  {
   "cell_type": "code",
   "execution_count": 25,
   "metadata": {},
   "outputs": [
    {
     "name": "stdout",
     "output_type": "stream",
     "text": [
      "35\n"
     ]
    }
   ],
   "source": [
    "while True:\n",
    "    x = random.choice(L)\n",
    "    if x%5 == 0 and x%7 == 0:\n",
    "        print(x)\n",
    "        break"
   ]
  },
  {
   "cell_type": "code",
   "execution_count": 33,
   "metadata": {},
   "outputs": [
    {
     "name": "stdout",
     "output_type": "stream",
     "text": [
      "175\n"
     ]
    }
   ],
   "source": [
    "print (random.choice([i for i in range(201) if i%5 == 0 and i%7 == 0]))"
   ]
  },
  {
   "cell_type": "markdown",
   "metadata": {},
   "source": [
    "<font face=\"Courier\">\n",
    "#----------------------------------------#\n",
    "    \n",
    "Question:\n",
    "\n",
    "Write a program to compute:\n",
    "\n",
    "f(n)=f(n-1)+100 when n>0\n",
    "and f(0)=1\n",
    "\n",
    "with a given n input by console (n>0).\n",
    "\n",
    "Example:\n",
    "If the following n is given as input to the program:\n",
    "\n",
    "5\n",
    "\n",
    "Then, the output of the program should be:\n",
    "\n",
    "500\n",
    "\n",
    "In case of input data being supplied to the question, it should be assumed to be a console input.\n",
    "\n",
    "Hints:\n",
    "We can define recursive function in Python.\n",
    "\n",
    "\n",
    "#----------------------------------------#\n",
    "</font>"
   ]
  },
  {
   "cell_type": "code",
   "execution_count": 34,
   "metadata": {},
   "outputs": [],
   "source": [
    "def f(n):\n",
    "    if n == 0:\n",
    "        return 1\n",
    "    else:\n",
    "        return f(n-1) + 100"
   ]
  },
  {
   "cell_type": "code",
   "execution_count": 35,
   "metadata": {},
   "outputs": [
    {
     "name": "stdout",
     "output_type": "stream",
     "text": [
      "n:5\n"
     ]
    },
    {
     "data": {
      "text/plain": [
       "501"
      ]
     },
     "execution_count": 35,
     "metadata": {},
     "output_type": "execute_result"
    }
   ],
   "source": [
    "while True:\n",
    "    n = int(input(\"n:\"))\n",
    "    if n > 0:\n",
    "        break\n",
    "        \n",
    "f(n)"
   ]
  },
  {
   "cell_type": "markdown",
   "metadata": {},
   "source": [
    "<font face=\"Courier\">\n",
    "#----------------------------------------#\n",
    "    \n",
    "Question:\n",
    "\n",
    "Please write a program which count and print the numbers of each character in a string input by console.\n",
    "\n",
    "Example:\n",
    "If the following string is given as input to the program:\n",
    "\n",
    "abcdefgabc\n",
    "\n",
    "Then, the output of the program should be:\n",
    "\n",
    "a,2<br>\n",
    "c,2<br>\n",
    "b,2<br>\n",
    "e,1<br>\n",
    "d,1<br>\n",
    "g,1<br>\n",
    "f,1<br>\n",
    "\n",
    "Hints:\n",
    "Use dict to store key/value pairs.\n",
    "Use dict.get() method to lookup a key with default value.\n",
    "\n",
    "Solution:\n",
    "\n",
    "dic = {}  \n",
    "s=raw_input()  \n",
    "for s in s:  \n",
    "    dic[s] = dic.get(s,0)+1  \n",
    "print '\\n'.join(['%s,%s' % (k, v) for k, v in dic.items()])  \n",
    "\n",
    "#----------------------------------------#\n",
    "</font>"
   ]
  },
  {
   "cell_type": "code",
   "execution_count": 53,
   "metadata": {},
   "outputs": [
    {
     "name": "stdout",
     "output_type": "stream",
     "text": [
      "a,2\n",
      "b,2\n",
      "c,2\n",
      "d,1\n",
      "e,1\n",
      "f,1\n",
      "g,1\n"
     ]
    }
   ],
   "source": [
    "letter = \"abcdefgabc\"\n",
    "dic = {}\n",
    "for i in range(len(letter)):\n",
    "    if letter[i] in dic:\n",
    "        dic[letter[i]] += 1\n",
    "    else:\n",
    "        dic[letter[i]] = 1\n",
    "\n",
    "for x, y in dic.items():\n",
    "    print(f\"{x},{y}\")"
   ]
  },
  {
   "cell_type": "code",
   "execution_count": 57,
   "metadata": {},
   "outputs": [
    {
     "name": "stdout",
     "output_type": "stream",
     "text": [
      "a,2\n",
      "b,2\n",
      "c,2\n",
      "d,1\n",
      "e,1\n",
      "f,1\n",
      "g,1\n"
     ]
    }
   ],
   "source": [
    "letter = \"abcdefgabc\"\n",
    "dic = {}\n",
    "for i in letter:\n",
    "    dic[i] = dic.get(i, 0) + 1\n",
    "\n",
    "print('\\n'.join(['%s,%s' % (k, v) for k, v in dic.items()]))\n",
    "# \"%-formatting\" is sometimes useful if tring to use for-loop on formate string."
   ]
  },
  {
   "cell_type": "code",
   "execution_count": 62,
   "metadata": {},
   "outputs": [
    {
     "data": {
      "text/plain": [
       "'a,2\\nb,2\\nc,2\\nd,1\\ne,1\\nf,1\\ng,1'"
      ]
     },
     "execution_count": 62,
     "metadata": {},
     "output_type": "execute_result"
    }
   ],
   "source": [
    "'\\n'.join(['%s,%s' % (k, v) for k, v in dic.items()])"
   ]
  },
  {
   "cell_type": "code",
   "execution_count": null,
   "metadata": {},
   "outputs": [],
   "source": []
  }
 ],
 "metadata": {
  "kernelspec": {
   "display_name": "Python 3",
   "language": "python",
   "name": "python3"
  },
  "language_info": {
   "codemirror_mode": {
    "name": "ipython",
    "version": 3
   },
   "file_extension": ".py",
   "mimetype": "text/x-python",
   "name": "python",
   "nbconvert_exporter": "python",
   "pygments_lexer": "ipython3",
   "version": "3.7.1"
  }
 },
 "nbformat": 4,
 "nbformat_minor": 2
}
